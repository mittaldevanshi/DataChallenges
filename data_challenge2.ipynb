{
 "cells": [
  {
   "cell_type": "code",
   "execution_count": 1,
   "metadata": {},
   "outputs": [
    {
     "name": "stderr",
     "output_type": "stream",
     "text": [
      "/Users/devanshimittal/opt/anaconda3/lib/python3.7/site-packages/IPython/core/interactiveshell.py:3063: DtypeWarning: Columns (8,9,10,15,31,33,36,51) have mixed types.Specify dtype option on import or set low_memory=False.\n",
      "  interactivity=interactivity, compiler=compiler, result=result)\n"
     ]
    }
   ],
   "source": [
    "# importing the necessary packages\n",
    "\n",
    "import pandas as pd\n",
    "import numpy as np\n",
    "from scipy.stats import chi2_contingency\n",
    "import scipy\n",
    "\n",
    "# importing the dataset\n",
    "data_permits = pd.read_csv('Historical_DOB_Permit_Issuance.csv')\n",
    "data_popn = pd.read_csv('2010+Census+Population+By+Zipcode+(ZCTA).csv')"
   ]
  },
  {
   "cell_type": "markdown",
   "metadata": {},
   "source": [
    "## Question 1\n",
    "\n",
    "What fraction of all construction permits in this data set correspond to renewed permits? The filing type is recorded under column 'Filing Status'. For first-time permits the value in this column is 'INITIAL' and for renewed permits it is 'RENEWAL'."
   ]
  },
  {
   "cell_type": "code",
   "execution_count": 3,
   "metadata": {},
   "outputs": [
    {
     "name": "stdout",
     "output_type": "stream",
     "text": [
      "The fraction of all construction permits that are renewed are 0.23756920864755\n"
     ]
    }
   ],
   "source": [
    "# assuming that each record in the dataset is a unique construction permit. \n",
    "\n",
    "print(\"The fraction of all construction permits that are renewed are\", \\\n",
    "          data_permits[data_permits['Filing Status'] == 'RENEWAL'].shape[0]/data_permits.shape[0])"
   ]
  },
  {
   "cell_type": "markdown",
   "metadata": {},
   "source": [
    "## Question 2\n",
    "\n",
    "The filing type of a permit is recorded under column 'Filing Status'. For first-time permits the value in this column is 'INITIAL' and for renewed permits it is 'RENEWAL'. What kind of an owner the permit was issued to is recorded in the column \"Owner's Business Type\", for corporations the value is 'CORPORATION', for individuals it is 'INDIVIDUAL'. If you consider only renewed permits, what is the ratio of the number of permits issued to corporations to the number of permits issued to individuals?"
   ]
  },
  {
   "cell_type": "code",
   "execution_count": 4,
   "metadata": {},
   "outputs": [],
   "source": [
    "# getting only renewed permits\n",
    "data_renewed_permits = data_permits[data_permits['Filing Status'] == 'RENEWAL'] \n",
    "# getting corporation permits counts\n",
    "number_crporations = data_renewed_permits[data_renewed_permits[\"Owner's Business Type\"]=='CORPORATION'].shape[0]\n",
    "# getting individual permits counts\n",
    "number_individuals = data_renewed_permits[data_renewed_permits[\"Owner's Business Type\"]=='INDIVIDUAL'].shape[0]"
   ]
  },
  {
   "cell_type": "code",
   "execution_count": 5,
   "metadata": {},
   "outputs": [
    {
     "name": "stdout",
     "output_type": "stream",
     "text": [
      "Considering only renewed permits, the ratio of number of permits issued to corporations vs to individuals is 1.0805818771914573\n"
     ]
    }
   ],
   "source": [
    "print(\"Considering only renewed permits, the ratio of number of permits issued to corporations vs to individuals is\",\\\n",
    "      number_crporations/number_individuals)"
   ]
  },
  {
   "cell_type": "markdown",
   "metadata": {},
   "source": [
    "## Question 3\n",
    "\n",
    "Consider only those permits that were issued for more than 365 days. The date on which a permit was issued is recorded in column 'Issuance Date', the date the permit expires is in column 'Expiration Date'. What fraction of these at least year-long permits were issued in the borough with the highest number of such permits? The borough where the construction will take place is in column 'BOROUGH'."
   ]
  },
  {
   "cell_type": "code",
   "execution_count": 106,
   "metadata": {},
   "outputs": [],
   "source": [
    "data_permits['number_of_days_issued'] = pd.to_datetime(data_permits['Expiration Date']) - \\\n",
    "pd.to_datetime(data_permits['Issuance Date'])\n",
    "\n",
    "# getting more than a year permits only\n",
    "data_permits_morethan365 = data_permits[data_permits['number_of_days_issued']> '365 days']\n",
    "\n",
    "# fraction of total year long permits permits by Borough\n",
    "dt = pd.DataFrame(data_permits_morethan365['BOROUGH'].value_counts()/len(data_permits_morethan365))"
   ]
  },
  {
   "cell_type": "code",
   "execution_count": 83,
   "metadata": {},
   "outputs": [
    {
     "name": "stdout",
     "output_type": "stream",
     "text": [
      "The fraction of at least year long permits with highest number of permits was 0.44938589413557717 in the borough MANHATTAN\n"
     ]
    }
   ],
   "source": [
    "print(\"The fraction of at least year long permits with highest number of permits was\",  max(dt['BOROUGH']),\\\n",
    "      \"in the borough\", dt[dt['BOROUGH']==max(dt['BOROUGH'])].index[0])"
   ]
  },
  {
   "cell_type": "markdown",
   "metadata": {},
   "source": [
    "## Question 4\n",
    "\n",
    "Limit your analysis to permits that were filed in 2010. The column recording the date of permit filing is called 'Filing Date'. For each ZIP code compute the ratio between the number of permits issued in 2010 and number of residents in that ZIP code. Make sure to discard any ZIP codes with population lower than 1000 people. Note: you will need to use both the DOB permits dataset and the US Census dataset. In the DOB permits dataset, the ZIP code is recorded under column 'Postcode'. How many ZIP codes are outliers in terms of number of construction permits per number of people - more specificaly, for how many ZIP codes does this computed ratio exceed the mean by more than twice the standard deviation?\n"
   ]
  },
  {
   "cell_type": "code",
   "execution_count": null,
   "metadata": {},
   "outputs": [],
   "source": [
    "permits_2010 = data_permits[pd.to_datetime(data_permits['Filing Date']).dt.year == 2010]"
   ]
  },
  {
   "cell_type": "code",
   "execution_count": 84,
   "metadata": {},
   "outputs": [
    {
     "name": "stdout",
     "output_type": "stream",
     "text": [
      "The number of zip codes that are outliers are 9\n"
     ]
    }
   ],
   "source": [
    "# discarding less than 1000\n",
    "popn_morethan1000 = data_popn[data_popn['2010 Census Population'] >= 1000]\n",
    "permits_popn_byZip = pd.merge(permits_2010, popn_morethan1000,  left_on = \"Postcode\", right_on = 'Zip Code ZCTA')\n",
    "\n",
    "# number of permits per post code\n",
    "permit_cnt_byZip = permits_popn_byZip[['BOROUGH','Postcode']].groupby('Postcode').count().reset_index()\n",
    "\n",
    "# population per zip code\n",
    "popn_count_byZip = permits_popn_byZip[['Zip Code ZCTA', '2010 Census Population']].groupby('Zip Code ZCTA').mean().reset_index()\n",
    "\n",
    "permits_popn_data = pd.merge(permit_cnt_byZip, popn_count_byZip,  left_on = \"Postcode\", right_on = 'Zip Code ZCTA')\n",
    "\n",
    "# permit counts/ population count by zip code\n",
    "permits_popn_data['ratio'] = permits_popn_data['BOROUGH']/permits_popn_data['2010 Census Population'] \n",
    "\n",
    "# getting only outliers data\n",
    "outliers = permits_popn_data[(permits_popn_data['ratio'] - permits_popn_data['ratio'].mean()) > 2 * permits_popn_data['ratio'].std()]\n",
    "\n",
    "print(\"The number of zip codes that are outliers are\", outliers.shape[0])\n"
   ]
  },
  {
   "cell_type": "markdown",
   "metadata": {},
   "source": [
    "# Question 5\n",
    "\n",
    "Observe how the number of issued permits changes accross the years. Limit your analysis to years 1990-2012 (both inclusive). What is the coefficient of determination (R squared) between the year a permit was issued and the number of issued permits that year? The column recording the date when a permit was issued is called 'Issuance Date'."
   ]
  },
  {
   "cell_type": "code",
   "execution_count": 107,
   "metadata": {},
   "outputs": [
    {
     "name": "stderr",
     "output_type": "stream",
     "text": [
      "/Users/devanshimittal/opt/anaconda3/lib/python3.7/site-packages/ipykernel_launcher.py:2: SettingWithCopyWarning: \n",
      "A value is trying to be set on a copy of a slice from a DataFrame.\n",
      "Try using .loc[row_indexer,col_indexer] = value instead\n",
      "\n",
      "See the caveats in the documentation: https://pandas.pydata.org/pandas-docs/stable/user_guide/indexing.html#returning-a-view-versus-a-copy\n",
      "  \n"
     ]
    }
   ],
   "source": [
    "permits_90_12 = data_permits[pd.to_datetime(data_permits['Issuance Date']).dt.year.isin(range(1990, 2013))]\n",
    "permits_90_12['permit issue year'] =pd.to_datetime(permits_90_12['Issuance Date']).dt.year"
   ]
  },
  {
   "cell_type": "code",
   "execution_count": 53,
   "metadata": {},
   "outputs": [],
   "source": [
    "#number of permits per year\n",
    "permits_by_year = permits_90_12[['BOROUGH','permit issue year']].groupby('permit issue year').count().reset_index()"
   ]
  },
  {
   "cell_type": "code",
   "execution_count": 54,
   "metadata": {},
   "outputs": [],
   "source": [
    "# x = year, y = number of permits by year\n",
    "slope, intercept, r_value, p_value, std_err = scipy.stats.linregress(permits_by_year['permit issue year'], permits_by_year['BOROUGH'])"
   ]
  },
  {
   "cell_type": "code",
   "execution_count": 55,
   "metadata": {},
   "outputs": [
    {
     "name": "stdout",
     "output_type": "stream",
     "text": [
      "The coefficient of determination between the year a permit was issued and number of issued permits that year 0.9068202122816982\n"
     ]
    }
   ],
   "source": [
    "print(\"The coefficient of determination between the year a permit was issued and number of issued permits that year\", \\\n",
    "      r_value**2)"
   ]
  },
  {
   "cell_type": "markdown",
   "metadata": {},
   "source": [
    "## Question 6\n",
    "\n",
    "Let's investigate how the number of construction jobs that start in the summer vs the winter changes across the years. The date of construction job start is recorded in column 'Job Start Date'. For every year, compute the ratio between the number of construction jobs that start in the peak of summer (in July and August) and the number of jobs that start in the peak of winter (in January and February). Again limit your analysis to years 1990-2012 (both inclusive). Find the year when this ratio was maximal - what was the value of this ratio for that year?"
   ]
  },
  {
   "cell_type": "code",
   "execution_count": 119,
   "metadata": {},
   "outputs": [
    {
     "name": "stderr",
     "output_type": "stream",
     "text": [
      "/Users/devanshimittal/opt/anaconda3/lib/python3.7/site-packages/ipykernel_launcher.py:2: SettingWithCopyWarning: \n",
      "A value is trying to be set on a copy of a slice from a DataFrame.\n",
      "Try using .loc[row_indexer,col_indexer] = value instead\n",
      "\n",
      "See the caveats in the documentation: https://pandas.pydata.org/pandas-docs/stable/user_guide/indexing.html#returning-a-view-versus-a-copy\n",
      "  \n"
     ]
    }
   ],
   "source": [
    "permits_90_12['Job Start Date Months'] = pd.to_datetime(permits_90_12['Job Start Date'], \\\n",
    "                                                                  errors = 'coerce').dt.month"
   ]
  },
  {
   "cell_type": "code",
   "execution_count": 108,
   "metadata": {},
   "outputs": [
    {
     "name": "stderr",
     "output_type": "stream",
     "text": [
      "/Users/devanshimittal/opt/anaconda3/lib/python3.7/site-packages/ipykernel_launcher.py:2: SettingWithCopyWarning: \n",
      "A value is trying to be set on a copy of a slice from a DataFrame.\n",
      "Try using .loc[row_indexer,col_indexer] = value instead\n",
      "\n",
      "See the caveats in the documentation: https://pandas.pydata.org/pandas-docs/stable/user_guide/indexing.html#returning-a-view-versus-a-copy\n",
      "  \n"
     ]
    },
    {
     "name": "stdout",
     "output_type": "stream",
     "text": [
      "The year that the ratio was maximal was 1990 and the ratio was 3.498069498069498\n"
     ]
    }
   ],
   "source": [
    "permits_90_12['Job Start Date Months'] = pd.to_datetime(permits_90_12['Job Start Date'], \\\n",
    "                                                                  errors = 'coerce').dt.month\n",
    "#number of permits for summer - moonths 7 and 8\n",
    "summer_permits = permits_90_12[['permit issue year', 'Job Start Date Months', 'BOROUGH']]\\\n",
    "    [permits_90_12['Job Start Date Months'].isin(['7', '8'])].groupby('permit issue year').count().reset_index()\n",
    "\n",
    "#number of permits for summer - moonths 1 and 2\n",
    "winter_permits = permits_90_12[['permit issue year', 'Job Start Date Months', 'BOROUGH']]\\\n",
    "    [permits_90_12['Job Start Date Months'].isin(['1', '2'])].groupby('permit issue year').count().reset_index()\n",
    "\n",
    "total_permits = pd.merge(summer_permits, winter_permits, on = 'permit issue year')\n",
    "\n",
    "total_permits['ratio'] = total_permits['BOROUGH_x']/total_permits['BOROUGH_y']\n",
    "\n",
    "print(\"The year that the ratio was maximal was\", \\\n",
    "      total_permits[total_permits['ratio']==total_permits['ratio'].max()]['permit issue year'][0], \"and the ratio was\", \n",
    "      total_permits['ratio'].max())"
   ]
  },
  {
   "cell_type": "markdown",
   "metadata": {},
   "source": [
    "##  Question 7\n",
    "\n",
    "If we look at how permit duration varies with the construction start date, it appears like jobs that start in November tend to have shorter permit duration. The date of construction job start is recorded in column 'Job Start Date'. The date on which a permit was issued is recorded in column 'Issuance Date', the date the permit expires is in column 'Expiration Date'. Calculate the chi-square test statistic for testing whether a permit is more likely to be issued for less than 60 days when construction job start date is November. Again limit your analysis to data from years 1990-2012 (both inclusive)."
   ]
  },
  {
   "cell_type": "code",
   "execution_count": 109,
   "metadata": {},
   "outputs": [],
   "source": [
    "# assuming we are comparing < 60 days vs >= 60 days for november vs not november from 1990-2012\n",
    "# getting total counts < 60 days and >= 60 days for November vs Not November\n",
    "contingency_table = [[permits_90_12[(permits_90_12['Job Start Date Months'] ==11) & \n",
    "                         (permits_90_12['number_of_days_issued']<'60 days')].shape[0], \\\n",
    "          permits_90_12[(permits_90_12['Job Start Date Months'] ==11) & \n",
    "                        (permits_90_12['number_of_days_issued']>='60 days')].shape[0]],\n",
    "          [permits_90_12[(permits_90_12['Job Start Date Months'] !=11) & \n",
    "                         (permits_90_12['number_of_days_issued']<'60 days')].shape[0], \\\n",
    "          permits_90_12[(permits_90_12['Job Start Date Months'] !=11) & \n",
    "                        (permits_90_12['number_of_days_issued']>='60 days')].shape[0]]]"
   ]
  },
  {
   "cell_type": "code",
   "execution_count": 113,
   "metadata": {},
   "outputs": [
    {
     "data": {
      "text/plain": [
       "0.06871749195823593"
      ]
     },
     "execution_count": 113,
     "metadata": {},
     "output_type": "execute_result"
    }
   ],
   "source": [
    "permits_90_12[(permits_90_12['Job Start Date Months'] !=11) & \n",
    "                         (permits_90_12['number_of_days_issued']<'60 days')].shape[0]/ \\\n",
    "          permits_90_12[(permits_90_12['Job Start Date Months'] !=11) ].shape[0]"
   ]
  },
  {
   "cell_type": "code",
   "execution_count": 114,
   "metadata": {},
   "outputs": [
    {
     "data": {
      "text/plain": [
       "0.931281134946019"
      ]
     },
     "execution_count": 114,
     "metadata": {},
     "output_type": "execute_result"
    }
   ],
   "source": [
    "permits_90_12[(permits_90_12['Job Start Date Months'] !=11) & \n",
    "                         (permits_90_12['number_of_days_issued']>='60 days')].shape[0]/ \\\n",
    "          permits_90_12[(permits_90_12['Job Start Date Months'] !=11)].shape[0]"
   ]
  },
  {
   "cell_type": "code",
   "execution_count": 115,
   "metadata": {},
   "outputs": [
    {
     "data": {
      "text/plain": [
       "0.10951440158053447"
      ]
     },
     "execution_count": 115,
     "metadata": {},
     "output_type": "execute_result"
    }
   ],
   "source": [
    "permits_90_12[(permits_90_12['Job Start Date Months'] ==11) & \n",
    "                         (permits_90_12['number_of_days_issued']<'60 days')].shape[0]/ \\\n",
    "          permits_90_12[(permits_90_12['Job Start Date Months'] ==11)].shape[0]"
   ]
  },
  {
   "cell_type": "code",
   "execution_count": 118,
   "metadata": {},
   "outputs": [
    {
     "data": {
      "text/plain": [
       "0.8904803992929188"
      ]
     },
     "execution_count": 118,
     "metadata": {},
     "output_type": "execute_result"
    }
   ],
   "source": [
    "permits_90_12[(permits_90_12['Job Start Date Months'] ==11) & \n",
    "                         (permits_90_12['number_of_days_issued']>='60 days')].shape[0]/ \\\n",
    "          permits_90_12[(permits_90_12['Job Start Date Months'] ==11)].shape[0]"
   ]
  },
  {
   "cell_type": "code",
   "execution_count": 101,
   "metadata": {},
   "outputs": [],
   "source": [
    "stat, p, dof, expected = chi2_contingency(contingency_table)"
   ]
  },
  {
   "cell_type": "code",
   "execution_count": 102,
   "metadata": {},
   "outputs": [
    {
     "name": "stdout",
     "output_type": "stream",
     "text": [
      "The chi-square test statistic for testing whether a permit is more likely to be issued for less than 60 days when construction job start date is November compared to not in November is 4401.959208420233\n"
     ]
    }
   ],
   "source": [
    "print(\"The chi-square test statistic for testing whether a permit is more likely to be issued for less than 60 days when construction job start date is November compared to not in November is\", stat)"
   ]
  }
 ],
 "metadata": {
  "kernelspec": {
   "display_name": "Python 3",
   "language": "python",
   "name": "python3"
  },
  "language_info": {
   "codemirror_mode": {
    "name": "ipython",
    "version": 3
   },
   "file_extension": ".py",
   "mimetype": "text/x-python",
   "name": "python",
   "nbconvert_exporter": "python",
   "pygments_lexer": "ipython3",
   "version": "3.7.6"
  }
 },
 "nbformat": 4,
 "nbformat_minor": 4
}
