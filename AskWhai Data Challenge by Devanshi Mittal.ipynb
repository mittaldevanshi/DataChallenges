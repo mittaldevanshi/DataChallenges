{
 "cells": [
  {
   "cell_type": "markdown",
   "metadata": {},
   "source": [
    "## AskWhai Data Challenge\n",
    "## Devanshi Mittal - April 2019\n"
   ]
  },
  {
   "cell_type": "code",
   "execution_count": 422,
   "metadata": {},
   "outputs": [],
   "source": [
    "import pandas as pd\n",
    "import numpy as np\n",
    "import pandas as pd\n",
    "import numpy as np\n",
    "import seaborn as sns\n",
    "import matplotlib\n",
    "from matplotlib import pyplot as plt\n",
    "#from pandas.stats.plm import PanelOLS\n",
    "import statsmodels.formula.api as sm\n",
    "from sklearn.linear_model import LogisticRegression\n",
    "from sklearn import metrics\n",
    "from sklearn.model_selection import train_test_split\n",
    "from sklearn.metrics import classification_report\n",
    "from xgboost import XGBClassifier\n",
    "from sklearn.ensemble import RandomForestClassifier\n",
    "from sklearn.model_selection import cross_val_score\n",
    "from sklearn.cluster import KMeans\n",
    "pd.set_option(\"display.max_rows\",20)"
   ]
  },
  {
   "cell_type": "code",
   "execution_count": 424,
   "metadata": {},
   "outputs": [],
   "source": [
    "#Importing the data\n",
    "payments = pd.read_csv('~/payments.csv')"
   ]
  },
  {
   "cell_type": "markdown",
   "metadata": {},
   "source": [
    "## 1. Take an initial look at the Payments dataset in order to understand each column. You may use the description of the dataset on the City of Chicago data portal, as well as direct examination of the data. Discuss any issues you identify with data quality, or other factors that may complicate further analysis. How could you potentially mitigate these issues?"
   ]
  },
  {
   "cell_type": "markdown",
   "metadata": {},
   "source": [
    "Potential Problems:\n",
    "\n",
    "1. Check Date: The Check Date format is not consistent in the data. \n",
    "\n",
    "Also since the data from 1996-2002 is mentioned as data from 2002, it must be important to decide whether to include or not include the data points where date = 2002 as it gives wrong information for year 2002.\n",
    "\n",
    "2. Contract Number: Contract Number should be a number as the name suggests but it is not so.\n",
    "\n",
    "3. Voucher Number: There is a category called Multiple here which may make the analysis more complicated.\n",
    "\n",
    "Apart from these issues, the dataset (especially the Department Name dataset) contains a very large number of missing values which may complicate analysis if used."
   ]
  },
  {
   "cell_type": "markdown",
   "metadata": {},
   "source": [
    "1. To Keep the Check Date format consistent, we convert the the Check Date column to datetime objects. \n",
    "\n",
    "Since all the date points may come handy, we create three columns of year, month and date."
   ]
  },
  {
   "cell_type": "code",
   "execution_count": 425,
   "metadata": {},
   "outputs": [],
   "source": [
    "payments[\"CHECK DATE\"] = pd.to_datetime(payments[\"CHECK DATE\"])\n",
    "payments[\"CHECK DATE YEAR\"] = payments[\"CHECK DATE\"].dt.year\n",
    "payments[\"CHECK DATE MONTH\"] = payments[\"CHECK DATE\"].dt.month\n",
    "payments[\"CHECK DATE DAY\"] = payments[\"CHECK DATE\"].dt.day"
   ]
  },
  {
   "cell_type": "markdown",
   "metadata": {},
   "source": [
    "Since the data from 1996-2002 is treated as year 2002, I make the design decision here to remove the data points that have year 2002."
   ]
  },
  {
   "cell_type": "code",
   "execution_count": 426,
   "metadata": {},
   "outputs": [],
   "source": [
    "payments = payments[payments[\"CHECK DATE YEAR\"] != 2002]"
   ]
  },
  {
   "cell_type": "markdown",
   "metadata": {},
   "source": [
    "2. It can be observed below that the count of DV values is much higher than for any other Contract Number value.\n",
    "Hence I make this design decision that creates a new column - DV OR NOT - where if the contract number is dv, it marks the value as 1 else 0. It does not rule out the problem of the contract number being a number but it makes further analysis simpler."
   ]
  },
  {
   "cell_type": "code",
   "execution_count": 427,
   "metadata": {},
   "outputs": [
    {
     "data": {
      "text/plain": [
       "DV             545004\n",
       "33233            4617\n",
       "19393            1452\n",
       "28775            1411\n",
       "24027             733\n",
       "47144             683\n",
       "28296             681\n",
       "33232             676\n",
       "28295             610\n",
       "30545             571\n",
       "                ...  \n",
       "D2961206040         1\n",
       "C029661C            1\n",
       "50616               1\n",
       "39279               1\n",
       "56463               1\n",
       "46189               1\n",
       "64684               1\n",
       "38684               1\n",
       "40565               1\n",
       "37184               1\n",
       "Name: CONTRACT NUMBER, Length: 49915, dtype: int64"
      ]
     },
     "execution_count": 427,
     "metadata": {},
     "output_type": "execute_result"
    }
   ],
   "source": [
    "payments['CONTRACT NUMBER'].value_counts()"
   ]
  },
  {
   "cell_type": "code",
   "execution_count": 428,
   "metadata": {},
   "outputs": [],
   "source": [
    "payments['DV OR NOT'] = np.where(payments['CONTRACT NUMBER'] == 'DV',1, 0)"
   ]
  },
  {
   "cell_type": "markdown",
   "metadata": {},
   "source": [
    "3. To deal with the category 'Multiple' of Voucher Number, I made another design decision which does not take that into consideration.\n",
    "\n"
   ]
  },
  {
   "cell_type": "code",
   "execution_count": 429,
   "metadata": {},
   "outputs": [],
   "source": [
    "payments = payments[payments[\"VOUCHER NUMBER\"] != 'Multiple']\n"
   ]
  },
  {
   "cell_type": "code",
   "execution_count": 430,
   "metadata": {},
   "outputs": [
    {
     "data": {
      "text/plain": [
       "VOUCHER NUMBER      176785\n",
       "AMOUNT              173969\n",
       "CHECK DATE             348\n",
       "DEPARTMENT NAME         49\n",
       "CONTRACT NUMBER      49915\n",
       "VENDOR NAME         344273\n",
       "CASHED                   2\n",
       "CHECK DATE YEAR         17\n",
       "CHECK DATE MONTH        12\n",
       "CHECK DATE DAY          31\n",
       "DV OR NOT                2\n",
       "dtype: int64"
      ]
     },
     "execution_count": 430,
     "metadata": {},
     "output_type": "execute_result"
    }
   ],
   "source": [
    "payments.nunique()"
   ]
  },
  {
   "cell_type": "markdown",
   "metadata": {},
   "source": [
    "These unique values tell us what features to use - the lesser the unique values, the better will the model be able to use those features to predict. Department Name, DV or not, Day, Month and Year are some of the few features that can be used."
   ]
  },
  {
   "cell_type": "markdown",
   "metadata": {},
   "source": [
    "## 2. Tell us about some interesting insights you might be able to gain from this data after an appropriate analysis. Consider descriptive, predictive, and prescriptive tasks alike. What would you want the data to tell you, and what are some techniques you could use to achieve those goals?"
   ]
  },
  {
   "cell_type": "markdown",
   "metadata": {},
   "source": [
    "\n",
    "Let's see the count of Cashed and Non-Cashed Values."
   ]
  },
  {
   "cell_type": "code",
   "execution_count": 431,
   "metadata": {},
   "outputs": [
    {
     "data": {
      "text/plain": [
       "Text(0.5, 1.0, 'Count of Cashed and Non Cashed Values')"
      ]
     },
     "execution_count": 431,
     "metadata": {},
     "output_type": "execute_result"
    },
    {
     "data": {
      "image/png": "[encoded data removed]",
      "text/plain": [
       "<Figure size 432x288 with 1 Axes>"
      ]
     },
     "metadata": {},
     "output_type": "display_data"
    }
   ],
   "source": [
    "sns.countplot(payments[\"CASHED\"]).set_title('Count of Cashed and Non Cashed Values')"
   ]
  },
  {
   "cell_type": "markdown",
   "metadata": {},
   "source": [
    "Exploring the DV or not values."
   ]
  },
  {
   "cell_type": "code",
   "execution_count": 432,
   "metadata": {},
   "outputs": [
    {
     "data": {
      "text/plain": [
       "Text(0.5, 1.0, 'Count of Direct Voucher and Non Direct Voucher Values')"
      ]
     },
     "execution_count": 432,
     "metadata": {},
     "output_type": "execute_result"
    },
    {
     "data": {
      "image/png": "[encoded data removed]",
      "text/plain": [
       "<Figure size 432x288 with 1 Axes>"
      ]
     },
     "metadata": {},
     "output_type": "display_data"
    }
   ],
   "source": [
    "sns.countplot(payments['DV OR NOT']).set_title('Count of Direct Voucher and Non Direct Voucher Values')"
   ]
  },
  {
   "cell_type": "markdown",
   "metadata": {},
   "source": [
    "It is important to see the yearwise total and average payments to understand how it has changed over the years.\n",
    "There is a sharp increase from year 2009 to 2010 and the total payments have been consistently increasing."
   ]
  },
  {
   "cell_type": "code",
   "execution_count": 433,
   "metadata": {},
   "outputs": [
    {
     "data": {
      "text/plain": [
       "<matplotlib.axes._subplots.AxesSubplot at 0x1a8f41da20>"
      ]
     },
     "execution_count": 433,
     "metadata": {},
     "output_type": "execute_result"
    },
    {
     "data": {
      "image/png": "[encoded data removed]",
      "text/plain": [
       "<Figure size 432x288 with 1 Axes>"
      ]
     },
     "metadata": {},
     "output_type": "display_data"
    }
   ],
   "source": [
    "yearwise_totalpayments = payments.groupby(['CHECK DATE YEAR']).sum().reset_index()\n",
    "yearwise_totalpayments.plot(x = 'CHECK DATE YEAR', y = 'AMOUNT', title=\"Year Wise Total Amount\")"
   ]
  },
  {
   "cell_type": "markdown",
   "metadata": {},
   "source": [
    "On observing the average amount over the years, it can be seen that the average amount becomes much lower which means that the number of payments have increased.\n",
    "\n",
    "This conclusion is under the assumption that this data has been appropriately recording the payments since 2002 and there is no payment which hasn't been recorded. "
   ]
  },
  {
   "cell_type": "code",
   "execution_count": 434,
   "metadata": {},
   "outputs": [
    {
     "data": {
      "text/plain": [
       "<matplotlib.axes._subplots.AxesSubplot at 0x1a90dfacf8>"
      ]
     },
     "execution_count": 434,
     "metadata": {},
     "output_type": "execute_result"
    },
    {
     "data": {
      "image/png": "[encoded data removed]",
      "text/plain": [
       "<Figure size 432x288 with 1 Axes>"
      ]
     },
     "metadata": {},
     "output_type": "display_data"
    }
   ],
   "source": [
    "yearwise_avgpayments = payments.groupby(['CHECK DATE YEAR']).mean().reset_index()\n",
    "yearwise_avgpayments.plot(x = 'CHECK DATE YEAR', y = 'AMOUNT', title=\"Year Wise Average Amount\")"
   ]
  },
  {
   "cell_type": "markdown",
   "metadata": {},
   "source": [
    "To further confirm, it can be seen that there is a huge spike in the number of payments from 2018 which may be due to a large number of small transactions which was not true for the previous years."
   ]
  },
  {
   "cell_type": "code",
   "execution_count": 435,
   "metadata": {},
   "outputs": [
    {
     "data": {
      "text/plain": [
       "<matplotlib.axes._subplots.AxesSubplot at 0x1a86493e80>"
      ]
     },
     "execution_count": 435,
     "metadata": {},
     "output_type": "execute_result"
    },
    {
     "data": {
      "image/png": "[encoded data removed]",
      "text/plain": [
       "<Figure size 432x288 with 1 Axes>"
      ]
     },
     "metadata": {},
     "output_type": "display_data"
    }
   ],
   "source": [
    "yearwise_countpayments = payments.groupby(['CHECK DATE YEAR']).count().reset_index()\n",
    "yearwise_countpayments.plot(x = 'CHECK DATE YEAR', y = 'AMOUNT', title=\"Year Wise Count of Amounts\")"
   ]
  },
  {
   "cell_type": "code",
   "execution_count": 440,
   "metadata": {},
   "outputs": [],
   "source": [
    "counts_dv_or_not = payments.groupby(['CHECK DATE YEAR','DV OR NOT']).count()\n",
    "cashed_or_not = payments.groupby(['CHECK DATE YEAR','CASHED']).count()"
   ]
  },
  {
   "cell_type": "markdown",
   "metadata": {},
   "source": [
    "As can be observed below, the data points are a lot for years 2018 and 2019 for the both the variables - \"CASHED\" and \"DV OR NOT\"."
   ]
  },
  {
   "cell_type": "code",
   "execution_count": 437,
   "metadata": {},
   "outputs": [
    {
     "data": {
      "image/png": "[encoded data removed]",
      "text/plain": [
       "<Figure size 432x288 with 1 Axes>"
      ]
     },
     "metadata": {},
     "output_type": "display_data"
    }
   ],
   "source": [
    "sns.set(font_scale=0.75)\n",
    "ax = sns.countplot(x='CHECK DATE YEAR', hue='DV OR NOT', data=payments).set_title(\"Count of DV or not over the years\")"
   ]
  },
  {
   "cell_type": "code",
   "execution_count": 438,
   "metadata": {},
   "outputs": [
    {
     "data": {
      "image/png": "[encoded data removed]",
      "text/plain": [
       "<Figure size 432x288 with 1 Axes>"
      ]
     },
     "metadata": {},
     "output_type": "display_data"
    }
   ],
   "source": [
    "sns.set(font_scale=0.75)\n",
    "ax = sns.countplot(x='CHECK DATE YEAR', hue='CASHED', data=payments).set_title(\"Count of Cashed or not over the years\")"
   ]
  },
  {
   "cell_type": "markdown",
   "metadata": {},
   "source": [
    "## 3. Choose two different insights to focus on which demand different methods (e.g. k-means clustering and classification trees), and complete an analysis of the data columns which you believe will contribute to those insights. This does not need to be a “perfect” analysis, but you must provide the full code involved in your process."
   ]
  },
  {
   "cell_type": "markdown",
   "metadata": {},
   "source": [
    "There are two parts to this analysis that I did.\n",
    "\n",
    "1) Using Supervised Learning to predict whether the transaction will be cashed or not and predict whether the transaction is a DV or not.\n",
    "\n",
    "There are many issues to doing this:\n",
    "a) The data is highly imbalanced when taking Cashed column as the target column and hence I considered predicting DV or not as well.\n",
    "b) There are too many unique values for Vendor Name and Voucher Number which does not make it a useful feature.\n",
    "\n",
    "Hence for this analysis we use the features - Year, Month, Day, Amount, DV or Not and Department Names to predict the target variable.\n",
    "\n",
    "2) Since this is an open-ended problem, this data could help identify similar data points. Hence I tried using unsupervised - K-means clustering method that could help cluster and give some insights for further analysis."
   ]
  },
  {
   "cell_type": "markdown",
   "metadata": {},
   "source": [
    "### Predict whether transaction is DV or not\n",
    "\n",
    "The independent variables used are Year, Month, Day, Amount, Cashed Or Not and the Department Name.\n",
    "\n",
    "XGBoost Classifier  is an implementation of gradient boosted decision trees.\n",
    "The scale_pos_weight parameter helps deal with unbalanced data by considering a value like sum(negative instances) / sum(positive instances)."
   ]
  },
  {
   "cell_type": "code",
   "execution_count": 368,
   "metadata": {},
   "outputs": [
    {
     "name": "stdout",
     "output_type": "stream",
     "text": [
      "[0.95064629 0.9525605  0.95310189 0.95111953 0.95352637]\n",
      "cv_scores mean:0.9521909146094168\n",
      "              precision    recall  f1-score   support\n",
      "\n",
      "           0       0.91      0.92      0.91     61041\n",
      "           1       0.97      0.97      0.97    160609\n",
      "\n",
      "   micro avg       0.95      0.95      0.95    221650\n",
      "   macro avg       0.94      0.94      0.94    221650\n",
      "weighted avg       0.95      0.95      0.95    221650\n",
      "\n"
     ]
    }
   ],
   "source": [
    "#onehot encoding for Cashed variable to use in xgBoost.\n",
    "payments_onehot = pd.get_dummies(payments, columns=['CASHED'])\n",
    "#onehot encoding for Department Name variable to use in xgBoost.\n",
    "payments_onehot = pd.get_dummies(payments_onehot, columns=['DEPARTMENT NAME'])\n",
    "y = payments_onehot['DV OR NOT']\n",
    "X = payments_onehot.drop(['DV OR NOT','CONTRACT NUMBER', 'VENDOR NAME', 'VOUCHER NUMBER', 'CHECK DATE'], axis=1)\n",
    "y=y.astype('str')\n",
    "X_train, X_test, y_train, y_test = train_test_split(X, y, test_size=0.3, random_state=0)\n",
    "\n",
    "xgb1 = XGBClassifier(\n",
    " learning_rate =0.1,\n",
    " n_estimators=100,\n",
    " max_depth=5,\n",
    " min_child_weight=1,\n",
    " gamma=0,\n",
    " subsample=0.8,\n",
    " colsample_bytree=0.8,\n",
    " nthread=4,\n",
    " scale_pos_weight=1,\n",
    " seed=27)\n",
    "cv_scores = cross_val_score(xgb1, X_train, y_train, cv=5)\n",
    "#print each cv score (accuracy) and average them\n",
    "print(cv_scores)\n",
    "print('cv_scores mean:{}'.format(np.mean(cv_scores)))\n",
    "xgb1.fit(X_train, y_train)\n",
    "# feature importance\n",
    "# Use the forest's predict method on the test data\n",
    "predictions = xgb1.predict(X_test)\n",
    "# Calculate the absolute errors\n",
    "print(classification_report(y_test, predictions))"
   ]
  },
  {
   "cell_type": "markdown",
   "metadata": {},
   "source": [
    "On cross validating, we can see that the model performs equally well overall and we are not overfitting.\n",
    "\n",
    "It can be seen that the weighted F-1 score obtained on the test set is very good (0.95) which means that the overall model is really good.\n",
    "\n",
    "I tried implementing logistic regression and random forest models on the same but the above model gave the best results."
   ]
  },
  {
   "cell_type": "markdown",
   "metadata": {},
   "source": [
    "### Predict whether transaction is cashed or not\n",
    "\n",
    "The independent variables used are Year, Month, Day, Amount, DV Or Not and the Department Name.\n",
    "\n",
    "XGBoost Classifier is an implementation of gradient boosted decision trees.\n",
    "The scale_pos_weight parameter helps deal with unbalanced data "
   ]
  },
  {
   "cell_type": "code",
   "execution_count": 370,
   "metadata": {},
   "outputs": [
    {
     "name": "stdout",
     "output_type": "stream",
     "text": [
      "[0.96494485 0.96405542 0.96470281 0.96394872 0.96355234]\n",
      "cv_scores mean:0.9642408271776537\n",
      "              precision    recall  f1-score   support\n",
      "\n",
      "       False       0.56      0.82      0.67      9865\n",
      "        True       0.99      0.97      0.98    211785\n",
      "\n",
      "   micro avg       0.96      0.96      0.96    221650\n",
      "   macro avg       0.78      0.89      0.82    221650\n",
      "weighted avg       0.97      0.96      0.97    221650\n",
      "\n"
     ]
    }
   ],
   "source": [
    "payments_onehot = pd.get_dummies(payments, columns=['DV OR NOT'])\n",
    "payments_onehot = pd.get_dummies(payments_onehot, columns=['DEPARTMENT NAME'])\n",
    "y = payments_onehot['CASHED']\n",
    "X = payments_onehot.drop(['CASHED','CONTRACT NUMBER', 'VENDOR NAME', 'VOUCHER NUMBER', 'CHECK DATE'], axis=1)\n",
    "y=y.astype('str')\n",
    "X_train, X_test, y_train, y_test = train_test_split(X, y, test_size=0.3, random_state=0)\n",
    "\n",
    "\n",
    "xgb1 = XGBClassifier(\n",
    " learning_rate =0.1,\n",
    " n_estimators=100,\n",
    " max_depth=5,\n",
    " min_child_weight=1,\n",
    " gamma=0,\n",
    " subsample=0.8,\n",
    " colsample_bytree=0.8,\n",
    " nthread=4,\n",
    " scale_pos_weight=1,\n",
    " seed=27)\n",
    "cv_scores = cross_val_score(xgb1, X_train, y_train, cv=5)\n",
    "#print each cv score (accuracy) and average them\n",
    "print(cv_scores)\n",
    "print('cv_scores mean:{}'.format(np.mean(cv_scores)))\n",
    "xgb1.fit(X_train, y_train)\n",
    "# feature importance\n",
    "# Use the forest's predict method on the test data\n",
    "predictions = xgb1.predict(X_test)\n",
    "# Calculate the absolute errors\n",
    "print(classification_report(y_test, predictions))"
   ]
  },
  {
   "cell_type": "markdown",
   "metadata": {},
   "source": [
    "On cross validating, we can see that the model performs equally well overall and we are not overfitting.\n",
    "\n",
    "It can be seen that the weighted F-1 score obtained on the test set is very good (0.97), however it is important to note that the precision rate for predicting that a transaction will be Cash or Not is really bad. This may be due to the very less number of 'False' values in the dataset.\n",
    "\n",
    "I tried implementing logistic regression and random forest models on the same but the above model gave the best results."
   ]
  },
  {
   "cell_type": "markdown",
   "metadata": {},
   "source": [
    "### Unsupervised Learning Through K-Means Clustering.\n",
    "\n",
    "K-means clustering basically clusters all similar datapoints together. \n",
    "\n",
    "In this given dataset, we have very few numerical features that can be used as compared to categorical variables.\n",
    "\n",
    "I implement K-means clustering to two types of data according to the years.\n",
    "This is because the type of datapoints for 2018 and 2019  are very different from the rest of the years which may negate the effect of the years that have less datapoints.\n",
    "\n",
    "1) payments_1819 - contains only years 2018 and 2019.\n",
    "2) payments_not1819 - does not contain years 2018 and 2019."
   ]
  },
  {
   "cell_type": "code",
   "execution_count": 406,
   "metadata": {},
   "outputs": [],
   "source": [
    "payments_1819 = payments.loc[(payments['CHECK DATE YEAR'] >= 2018) & (payments['CHECK DATE YEAR'] <= 2019)]\n",
    "payments_onehot = pd.get_dummies(payments_1819, columns=['DV OR NOT'])\n",
    "payments_onehot = pd.get_dummies(payments_onehot, columns=['CASHED'])\n",
    "payments_onehot = pd.get_dummies(payments_onehot, columns=['DEPARTMENT NAME'])\n",
    "X = payments_onehot.drop(['CONTRACT NUMBER', 'VENDOR NAME', 'VOUCHER NUMBER', 'CHECK DATE'], axis=1)"
   ]
  },
  {
   "cell_type": "code",
   "execution_count": 407,
   "metadata": {},
   "outputs": [],
   "source": [
    "Kmean = KMeans(n_clusters = 4, init = 'k-means++', random_state = 42)\n",
    "#Kmean.cluster_centers_.shape\n",
    "#Kmean.labels_"
   ]
  },
  {
   "cell_type": "code",
   "execution_count": 408,
   "metadata": {},
   "outputs": [
    {
     "data": {
      "text/html": [
       "<div>\n",
       "<style scoped>\n",
       "    .dataframe tbody tr th:only-of-type {\n",
       "        vertical-align: middle;\n",
       "    }\n",
       "\n",
       "    .dataframe tbody tr th {\n",
       "        vertical-align: top;\n",
       "    }\n",
       "\n",
       "    .dataframe thead th {\n",
       "        text-align: right;\n",
       "    }\n",
       "</style>\n",
       "<table border=\"1\" class=\"dataframe\">\n",
       "  <thead>\n",
       "    <tr style=\"text-align: right;\">\n",
       "      <th></th>\n",
       "      <th>AMOUNT</th>\n",
       "      <th>CHECK DATE YEAR</th>\n",
       "      <th>CHECK DATE MONTH</th>\n",
       "      <th>CHECK DATE DAY</th>\n",
       "      <th>DV OR NOT_0</th>\n",
       "      <th>DV OR NOT_1</th>\n",
       "      <th>CASHED_False</th>\n",
       "      <th>CASHED_True</th>\n",
       "      <th>DEPARTMENT NAME_CHICAGO DEPARTMENT OF TRANSPORTATION</th>\n",
       "      <th>DEPARTMENT NAME_CHICAGO PUBLIC LIBRARY</th>\n",
       "      <th>...</th>\n",
       "      <th>DEPARTMENT NAME_DEPT OF STREETS &amp; SANITATION</th>\n",
       "      <th>DEPARTMENT NAME_FIRE DEPARTMENT</th>\n",
       "      <th>DEPARTMENT NAME_GRAPHICS &amp; REPRODUCTION CTR</th>\n",
       "      <th>DEPARTMENT NAME_OFFICE FOR PEOPLE WITH DISABILITIES</th>\n",
       "      <th>DEPARTMENT NAME_OFFICE OF BUDGET &amp; MANAGEMENT</th>\n",
       "      <th>DEPARTMENT NAME_OFFICE OF EMERGENCY COMMUNICATION</th>\n",
       "      <th>DEPARTMENT NAME_OFFICE OF SPECIAL EVENTS</th>\n",
       "      <th>DEPARTMENT NAME_OFFICE OF THE MAYOR</th>\n",
       "      <th>DEPARTMENT NAME_OHARE MODERNIZATION PROJECT</th>\n",
       "      <th>DEPARTMENT NAME_PLANNING &amp; DEVELOPMENT</th>\n",
       "    </tr>\n",
       "    <tr>\n",
       "      <th>cluster</th>\n",
       "      <th></th>\n",
       "      <th></th>\n",
       "      <th></th>\n",
       "      <th></th>\n",
       "      <th></th>\n",
       "      <th></th>\n",
       "      <th></th>\n",
       "      <th></th>\n",
       "      <th></th>\n",
       "      <th></th>\n",
       "      <th></th>\n",
       "      <th></th>\n",
       "      <th></th>\n",
       "      <th></th>\n",
       "      <th></th>\n",
       "      <th></th>\n",
       "      <th></th>\n",
       "      <th></th>\n",
       "      <th></th>\n",
       "      <th></th>\n",
       "      <th></th>\n",
       "    </tr>\n",
       "  </thead>\n",
       "  <tbody>\n",
       "    <tr>\n",
       "      <th>1.0</th>\n",
       "      <td>16531.1</td>\n",
       "      <td>2018.2</td>\n",
       "      <td>6.9</td>\n",
       "      <td>16.2</td>\n",
       "      <td>0.2</td>\n",
       "      <td>0.8</td>\n",
       "      <td>0.1</td>\n",
       "      <td>0.9</td>\n",
       "      <td>0.0</td>\n",
       "      <td>0.0</td>\n",
       "      <td>...</td>\n",
       "      <td>0.0</td>\n",
       "      <td>0.0</td>\n",
       "      <td>0.0</td>\n",
       "      <td>0.0</td>\n",
       "      <td>0.0</td>\n",
       "      <td>0.0</td>\n",
       "      <td>0.0</td>\n",
       "      <td>0.0</td>\n",
       "      <td>0.0</td>\n",
       "      <td>0.0</td>\n",
       "    </tr>\n",
       "    <tr>\n",
       "      <th>2.0</th>\n",
       "      <td>2905.2</td>\n",
       "      <td>2018.3</td>\n",
       "      <td>6.4</td>\n",
       "      <td>16.6</td>\n",
       "      <td>0.4</td>\n",
       "      <td>0.6</td>\n",
       "      <td>0.1</td>\n",
       "      <td>0.9</td>\n",
       "      <td>0.0</td>\n",
       "      <td>0.0</td>\n",
       "      <td>...</td>\n",
       "      <td>0.0</td>\n",
       "      <td>0.0</td>\n",
       "      <td>0.0</td>\n",
       "      <td>0.0</td>\n",
       "      <td>0.0</td>\n",
       "      <td>0.0</td>\n",
       "      <td>0.0</td>\n",
       "      <td>0.0</td>\n",
       "      <td>0.0</td>\n",
       "      <td>0.0</td>\n",
       "    </tr>\n",
       "    <tr>\n",
       "      <th>3.0</th>\n",
       "      <td>4754.3</td>\n",
       "      <td>2018.2</td>\n",
       "      <td>7.0</td>\n",
       "      <td>16.3</td>\n",
       "      <td>0.2</td>\n",
       "      <td>0.8</td>\n",
       "      <td>0.0</td>\n",
       "      <td>1.0</td>\n",
       "      <td>0.0</td>\n",
       "      <td>0.0</td>\n",
       "      <td>...</td>\n",
       "      <td>0.0</td>\n",
       "      <td>0.0</td>\n",
       "      <td>0.0</td>\n",
       "      <td>0.0</td>\n",
       "      <td>0.0</td>\n",
       "      <td>0.0</td>\n",
       "      <td>0.0</td>\n",
       "      <td>0.0</td>\n",
       "      <td>0.0</td>\n",
       "      <td>0.0</td>\n",
       "    </tr>\n",
       "    <tr>\n",
       "      <th>4.0</th>\n",
       "      <td>5949.3</td>\n",
       "      <td>2018.3</td>\n",
       "      <td>5.9</td>\n",
       "      <td>16.2</td>\n",
       "      <td>0.1</td>\n",
       "      <td>0.9</td>\n",
       "      <td>0.0</td>\n",
       "      <td>1.0</td>\n",
       "      <td>0.0</td>\n",
       "      <td>0.0</td>\n",
       "      <td>...</td>\n",
       "      <td>0.0</td>\n",
       "      <td>0.0</td>\n",
       "      <td>0.0</td>\n",
       "      <td>0.0</td>\n",
       "      <td>0.0</td>\n",
       "      <td>0.0</td>\n",
       "      <td>0.0</td>\n",
       "      <td>0.0</td>\n",
       "      <td>0.0</td>\n",
       "      <td>0.0</td>\n",
       "    </tr>\n",
       "  </tbody>\n",
       "</table>\n",
       "<p>4 rows × 41 columns</p>\n",
       "</div>"
      ],
      "text/plain": [
       "          AMOUNT  CHECK DATE YEAR  CHECK DATE MONTH  CHECK DATE DAY  \\\n",
       "cluster                                                               \n",
       "1.0      16531.1           2018.2               6.9            16.2   \n",
       "2.0       2905.2           2018.3               6.4            16.6   \n",
       "3.0       4754.3           2018.2               7.0            16.3   \n",
       "4.0       5949.3           2018.3               5.9            16.2   \n",
       "\n",
       "         DV OR NOT_0  DV OR NOT_1  CASHED_False  CASHED_True  \\\n",
       "cluster                                                        \n",
       "1.0              0.2          0.8           0.1          0.9   \n",
       "2.0              0.4          0.6           0.1          0.9   \n",
       "3.0              0.2          0.8           0.0          1.0   \n",
       "4.0              0.1          0.9           0.0          1.0   \n",
       "\n",
       "         DEPARTMENT NAME_CHICAGO DEPARTMENT OF TRANSPORTATION  \\\n",
       "cluster                                                         \n",
       "1.0                                                    0.0      \n",
       "2.0                                                    0.0      \n",
       "3.0                                                    0.0      \n",
       "4.0                                                    0.0      \n",
       "\n",
       "         DEPARTMENT NAME_CHICAGO PUBLIC LIBRARY  ...  \\\n",
       "cluster                                          ...   \n",
       "1.0                                         0.0  ...   \n",
       "2.0                                         0.0  ...   \n",
       "3.0                                         0.0  ...   \n",
       "4.0                                         0.0  ...   \n",
       "\n",
       "         DEPARTMENT NAME_DEPT OF STREETS & SANITATION  \\\n",
       "cluster                                                 \n",
       "1.0                                               0.0   \n",
       "2.0                                               0.0   \n",
       "3.0                                               0.0   \n",
       "4.0                                               0.0   \n",
       "\n",
       "         DEPARTMENT NAME_FIRE DEPARTMENT  \\\n",
       "cluster                                    \n",
       "1.0                                  0.0   \n",
       "2.0                                  0.0   \n",
       "3.0                                  0.0   \n",
       "4.0                                  0.0   \n",
       "\n",
       "         DEPARTMENT NAME_GRAPHICS & REPRODUCTION CTR  \\\n",
       "cluster                                                \n",
       "1.0                                              0.0   \n",
       "2.0                                              0.0   \n",
       "3.0                                              0.0   \n",
       "4.0                                              0.0   \n",
       "\n",
       "         DEPARTMENT NAME_OFFICE FOR PEOPLE WITH DISABILITIES  \\\n",
       "cluster                                                        \n",
       "1.0                                                    0.0     \n",
       "2.0                                                    0.0     \n",
       "3.0                                                    0.0     \n",
       "4.0                                                    0.0     \n",
       "\n",
       "         DEPARTMENT NAME_OFFICE OF BUDGET & MANAGEMENT  \\\n",
       "cluster                                                  \n",
       "1.0                                                0.0   \n",
       "2.0                                                0.0   \n",
       "3.0                                                0.0   \n",
       "4.0                                                0.0   \n",
       "\n",
       "         DEPARTMENT NAME_OFFICE OF EMERGENCY COMMUNICATION  \\\n",
       "cluster                                                      \n",
       "1.0                                                    0.0   \n",
       "2.0                                                    0.0   \n",
       "3.0                                                    0.0   \n",
       "4.0                                                    0.0   \n",
       "\n",
       "         DEPARTMENT NAME_OFFICE OF SPECIAL EVENTS  \\\n",
       "cluster                                             \n",
       "1.0                                           0.0   \n",
       "2.0                                           0.0   \n",
       "3.0                                           0.0   \n",
       "4.0                                           0.0   \n",
       "\n",
       "         DEPARTMENT NAME_OFFICE OF THE MAYOR  \\\n",
       "cluster                                        \n",
       "1.0                                      0.0   \n",
       "2.0                                      0.0   \n",
       "3.0                                      0.0   \n",
       "4.0                                      0.0   \n",
       "\n",
       "         DEPARTMENT NAME_OHARE MODERNIZATION PROJECT  \\\n",
       "cluster                                                \n",
       "1.0                                              0.0   \n",
       "2.0                                              0.0   \n",
       "3.0                                              0.0   \n",
       "4.0                                              0.0   \n",
       "\n",
       "         DEPARTMENT NAME_PLANNING & DEVELOPMENT  \n",
       "cluster                                          \n",
       "1.0                                         0.0  \n",
       "2.0                                         0.0  \n",
       "3.0                                         0.0  \n",
       "4.0                                         0.0  \n",
       "\n",
       "[4 rows x 41 columns]"
      ]
     },
     "execution_count": 408,
     "metadata": {},
     "output_type": "execute_result"
    }
   ],
   "source": [
    "y_kmeans = Kmean.fit_predict(X)\n",
    "#beginning of  the cluster numbering with 1 instead of 0\n",
    "y_kmeans1=y_kmeans\n",
    "y_kmeans1=y_kmeans+1\n",
    "# New Dataframe called cluster\n",
    "cluster = pd.DataFrame(y_kmeans1)\n",
    "# Adding cluster to the Dataset1\n",
    "X['cluster'] = cluster\n",
    "#Mean of clusters\n",
    "kmeans_mean_cluster = pd.DataFrame(round(X.groupby('cluster').mean(),1))\n",
    "kmeans_mean_cluster"
   ]
  },
  {
   "cell_type": "markdown",
   "metadata": {},
   "source": [
    "The four clusters above do not give very different information. This may be due to the large volume of DV as compared to non-DV datapoints and the large volume of Cashed as compared to Non-cashed datapoints. Also Department does not give very much useful information. It might be important to get some more numerical and useful features other than year, day, month here to  make more sense out of the information.\n",
    "\n",
    "Now we try doing just for years  2003-2017. It may be important to note that Cashed is not taken into consideration here as the cashed value is true for all years 2003-2017. "
   ]
  },
  {
   "cell_type": "code",
   "execution_count": 414,
   "metadata": {},
   "outputs": [],
   "source": [
    "payments_not1819 = payments.loc[(payments['CHECK DATE YEAR'] < 2018)]\n",
    "payments_onehot = pd.get_dummies(payments_not1819, columns=['DV OR NOT'])\n",
    "payments_onehot = pd.get_dummies(payments_onehot, columns=['DEPARTMENT NAME'])\n",
    "X = payments_onehot.drop(['CASHED','CONTRACT NUMBER', 'VENDOR NAME', 'VOUCHER NUMBER', 'CHECK DATE'], axis=1)"
   ]
  },
  {
   "cell_type": "code",
   "execution_count": 415,
   "metadata": {},
   "outputs": [
    {
     "data": {
      "text/html": [
       "<div>\n",
       "<style scoped>\n",
       "    .dataframe tbody tr th:only-of-type {\n",
       "        vertical-align: middle;\n",
       "    }\n",
       "\n",
       "    .dataframe tbody tr th {\n",
       "        vertical-align: top;\n",
       "    }\n",
       "\n",
       "    .dataframe thead th {\n",
       "        text-align: right;\n",
       "    }\n",
       "</style>\n",
       "<table border=\"1\" class=\"dataframe\">\n",
       "  <thead>\n",
       "    <tr style=\"text-align: right;\">\n",
       "      <th></th>\n",
       "      <th>AMOUNT</th>\n",
       "      <th>CHECK DATE YEAR</th>\n",
       "      <th>CHECK DATE MONTH</th>\n",
       "      <th>CHECK DATE DAY</th>\n",
       "      <th>DV OR NOT_0</th>\n",
       "      <th>DV OR NOT_1</th>\n",
       "      <th>DEPARTMENT NAME_ADMINISTRATIVE ADJUDICATION</th>\n",
       "      <th>DEPARTMENT NAME_BOARD OF ETHICS</th>\n",
       "      <th>DEPARTMENT NAME_CHICAGO DEPARTMENT OF TRANSPORTATION</th>\n",
       "      <th>DEPARTMENT NAME_CHICAGO PUBLIC LIBRARY</th>\n",
       "      <th>...</th>\n",
       "      <th>DEPARTMENT NAME_OFFICE FOR PEOPLE WITH DISABILITIES</th>\n",
       "      <th>DEPARTMENT NAME_OFFICE OF BUDGET &amp; MANAGEMENT</th>\n",
       "      <th>DEPARTMENT NAME_OFFICE OF CABLE COMMUNICATION ADM</th>\n",
       "      <th>DEPARTMENT NAME_OFFICE OF COMPLIANCE</th>\n",
       "      <th>DEPARTMENT NAME_OFFICE OF EMERGENCY COMMUNICATION</th>\n",
       "      <th>DEPARTMENT NAME_OFFICE OF INSPECTOR GENERAL</th>\n",
       "      <th>DEPARTMENT NAME_OFFICE OF SPECIAL EVENTS</th>\n",
       "      <th>DEPARTMENT NAME_OFFICE OF THE MAYOR</th>\n",
       "      <th>DEPARTMENT NAME_OHARE MODERNIZATION PROJECT</th>\n",
       "      <th>DEPARTMENT NAME_PLANNING &amp; DEVELOPMENT</th>\n",
       "    </tr>\n",
       "    <tr>\n",
       "      <th>cluster</th>\n",
       "      <th></th>\n",
       "      <th></th>\n",
       "      <th></th>\n",
       "      <th></th>\n",
       "      <th></th>\n",
       "      <th></th>\n",
       "      <th></th>\n",
       "      <th></th>\n",
       "      <th></th>\n",
       "      <th></th>\n",
       "      <th></th>\n",
       "      <th></th>\n",
       "      <th></th>\n",
       "      <th></th>\n",
       "      <th></th>\n",
       "      <th></th>\n",
       "      <th></th>\n",
       "      <th></th>\n",
       "      <th></th>\n",
       "      <th></th>\n",
       "      <th></th>\n",
       "    </tr>\n",
       "  </thead>\n",
       "  <tbody>\n",
       "    <tr>\n",
       "      <th>1.0</th>\n",
       "      <td>616512.5</td>\n",
       "      <td>2009.0</td>\n",
       "      <td>1.0</td>\n",
       "      <td>1.0</td>\n",
       "      <td>0.8</td>\n",
       "      <td>0.2</td>\n",
       "      <td>0.0</td>\n",
       "      <td>0.0</td>\n",
       "      <td>0.0</td>\n",
       "      <td>0.0</td>\n",
       "      <td>...</td>\n",
       "      <td>0.0</td>\n",
       "      <td>0.0</td>\n",
       "      <td>0.0</td>\n",
       "      <td>0.0</td>\n",
       "      <td>0.0</td>\n",
       "      <td>0.0</td>\n",
       "      <td>0.0</td>\n",
       "      <td>0.0</td>\n",
       "      <td>0.0</td>\n",
       "      <td>0.0</td>\n",
       "    </tr>\n",
       "    <tr>\n",
       "      <th>2.0</th>\n",
       "      <td>67360.5</td>\n",
       "      <td>2008.8</td>\n",
       "      <td>1.0</td>\n",
       "      <td>1.0</td>\n",
       "      <td>1.0</td>\n",
       "      <td>0.0</td>\n",
       "      <td>0.0</td>\n",
       "      <td>0.0</td>\n",
       "      <td>0.0</td>\n",
       "      <td>0.0</td>\n",
       "      <td>...</td>\n",
       "      <td>0.0</td>\n",
       "      <td>0.0</td>\n",
       "      <td>0.0</td>\n",
       "      <td>0.0</td>\n",
       "      <td>0.0</td>\n",
       "      <td>0.0</td>\n",
       "      <td>0.0</td>\n",
       "      <td>0.0</td>\n",
       "      <td>0.0</td>\n",
       "      <td>0.0</td>\n",
       "    </tr>\n",
       "    <tr>\n",
       "      <th>3.0</th>\n",
       "      <td>231436.4</td>\n",
       "      <td>2007.1</td>\n",
       "      <td>1.0</td>\n",
       "      <td>1.0</td>\n",
       "      <td>0.8</td>\n",
       "      <td>0.2</td>\n",
       "      <td>0.0</td>\n",
       "      <td>0.0</td>\n",
       "      <td>0.1</td>\n",
       "      <td>0.0</td>\n",
       "      <td>...</td>\n",
       "      <td>0.0</td>\n",
       "      <td>0.0</td>\n",
       "      <td>0.0</td>\n",
       "      <td>0.0</td>\n",
       "      <td>0.0</td>\n",
       "      <td>0.0</td>\n",
       "      <td>0.1</td>\n",
       "      <td>0.0</td>\n",
       "      <td>0.0</td>\n",
       "      <td>0.1</td>\n",
       "    </tr>\n",
       "    <tr>\n",
       "      <th>5.0</th>\n",
       "      <td>779778.0</td>\n",
       "      <td>2009.8</td>\n",
       "      <td>1.0</td>\n",
       "      <td>1.0</td>\n",
       "      <td>0.8</td>\n",
       "      <td>0.2</td>\n",
       "      <td>0.0</td>\n",
       "      <td>0.0</td>\n",
       "      <td>0.0</td>\n",
       "      <td>0.0</td>\n",
       "      <td>...</td>\n",
       "      <td>0.0</td>\n",
       "      <td>0.0</td>\n",
       "      <td>0.0</td>\n",
       "      <td>0.0</td>\n",
       "      <td>0.0</td>\n",
       "      <td>0.0</td>\n",
       "      <td>0.0</td>\n",
       "      <td>0.0</td>\n",
       "      <td>0.0</td>\n",
       "      <td>0.0</td>\n",
       "    </tr>\n",
       "  </tbody>\n",
       "</table>\n",
       "<p>4 rows × 57 columns</p>\n",
       "</div>"
      ],
      "text/plain": [
       "           AMOUNT  CHECK DATE YEAR  CHECK DATE MONTH  CHECK DATE DAY  \\\n",
       "cluster                                                                \n",
       "1.0      616512.5           2009.0               1.0             1.0   \n",
       "2.0       67360.5           2008.8               1.0             1.0   \n",
       "3.0      231436.4           2007.1               1.0             1.0   \n",
       "5.0      779778.0           2009.8               1.0             1.0   \n",
       "\n",
       "         DV OR NOT_0  DV OR NOT_1  \\\n",
       "cluster                             \n",
       "1.0              0.8          0.2   \n",
       "2.0              1.0          0.0   \n",
       "3.0              0.8          0.2   \n",
       "5.0              0.8          0.2   \n",
       "\n",
       "         DEPARTMENT NAME_ADMINISTRATIVE ADJUDICATION  \\\n",
       "cluster                                                \n",
       "1.0                                              0.0   \n",
       "2.0                                              0.0   \n",
       "3.0                                              0.0   \n",
       "5.0                                              0.0   \n",
       "\n",
       "         DEPARTMENT NAME_BOARD OF ETHICS  \\\n",
       "cluster                                    \n",
       "1.0                                  0.0   \n",
       "2.0                                  0.0   \n",
       "3.0                                  0.0   \n",
       "5.0                                  0.0   \n",
       "\n",
       "         DEPARTMENT NAME_CHICAGO DEPARTMENT OF TRANSPORTATION  \\\n",
       "cluster                                                         \n",
       "1.0                                                    0.0      \n",
       "2.0                                                    0.0      \n",
       "3.0                                                    0.1      \n",
       "5.0                                                    0.0      \n",
       "\n",
       "         DEPARTMENT NAME_CHICAGO PUBLIC LIBRARY  ...  \\\n",
       "cluster                                          ...   \n",
       "1.0                                         0.0  ...   \n",
       "2.0                                         0.0  ...   \n",
       "3.0                                         0.0  ...   \n",
       "5.0                                         0.0  ...   \n",
       "\n",
       "         DEPARTMENT NAME_OFFICE FOR PEOPLE WITH DISABILITIES  \\\n",
       "cluster                                                        \n",
       "1.0                                                    0.0     \n",
       "2.0                                                    0.0     \n",
       "3.0                                                    0.0     \n",
       "5.0                                                    0.0     \n",
       "\n",
       "         DEPARTMENT NAME_OFFICE OF BUDGET & MANAGEMENT  \\\n",
       "cluster                                                  \n",
       "1.0                                                0.0   \n",
       "2.0                                                0.0   \n",
       "3.0                                                0.0   \n",
       "5.0                                                0.0   \n",
       "\n",
       "         DEPARTMENT NAME_OFFICE OF CABLE COMMUNICATION ADM  \\\n",
       "cluster                                                      \n",
       "1.0                                                    0.0   \n",
       "2.0                                                    0.0   \n",
       "3.0                                                    0.0   \n",
       "5.0                                                    0.0   \n",
       "\n",
       "         DEPARTMENT NAME_OFFICE OF COMPLIANCE  \\\n",
       "cluster                                         \n",
       "1.0                                       0.0   \n",
       "2.0                                       0.0   \n",
       "3.0                                       0.0   \n",
       "5.0                                       0.0   \n",
       "\n",
       "         DEPARTMENT NAME_OFFICE OF EMERGENCY COMMUNICATION  \\\n",
       "cluster                                                      \n",
       "1.0                                                    0.0   \n",
       "2.0                                                    0.0   \n",
       "3.0                                                    0.0   \n",
       "5.0                                                    0.0   \n",
       "\n",
       "         DEPARTMENT NAME_OFFICE OF INSPECTOR GENERAL  \\\n",
       "cluster                                                \n",
       "1.0                                              0.0   \n",
       "2.0                                              0.0   \n",
       "3.0                                              0.0   \n",
       "5.0                                              0.0   \n",
       "\n",
       "         DEPARTMENT NAME_OFFICE OF SPECIAL EVENTS  \\\n",
       "cluster                                             \n",
       "1.0                                           0.0   \n",
       "2.0                                           0.0   \n",
       "3.0                                           0.1   \n",
       "5.0                                           0.0   \n",
       "\n",
       "         DEPARTMENT NAME_OFFICE OF THE MAYOR  \\\n",
       "cluster                                        \n",
       "1.0                                      0.0   \n",
       "2.0                                      0.0   \n",
       "3.0                                      0.0   \n",
       "5.0                                      0.0   \n",
       "\n",
       "         DEPARTMENT NAME_OHARE MODERNIZATION PROJECT  \\\n",
       "cluster                                                \n",
       "1.0                                              0.0   \n",
       "2.0                                              0.0   \n",
       "3.0                                              0.0   \n",
       "5.0                                              0.0   \n",
       "\n",
       "         DEPARTMENT NAME_PLANNING & DEVELOPMENT  \n",
       "cluster                                          \n",
       "1.0                                         0.0  \n",
       "2.0                                         0.0  \n",
       "3.0                                         0.1  \n",
       "5.0                                         0.0  \n",
       "\n",
       "[4 rows x 57 columns]"
      ]
     },
     "execution_count": 415,
     "metadata": {},
     "output_type": "execute_result"
    }
   ],
   "source": [
    "Kmean = KMeans(n_clusters = 5, init = 'k-means++', random_state = 42)\n",
    "#Kmean.cluster_centers_.shape\n",
    "#Kmean.labels_\n",
    "y_kmeans = Kmean.fit_predict(X)\n",
    "#beginning of  the cluster numbering with 1 instead of 0\n",
    "y_kmeans1=y_kmeans\n",
    "y_kmeans1=y_kmeans+1\n",
    "# New Dataframe called cluster\n",
    "cluster = pd.DataFrame(y_kmeans1)\n",
    "# Adding cluster to the Dataset1\n",
    "X['cluster'] = cluster\n",
    "#Mean of clusters\n",
    "kmeans_mean_cluster = pd.DataFrame(round(X.groupby('cluster').mean(),1))\n",
    "kmeans_mean_cluster"
   ]
  },
  {
   "cell_type": "markdown",
   "metadata": {},
   "source": [
    "The four clusters above do not give very different information. Day and Month do not given enough information since probably the dates of the data were not recorded in the past years.  Even DV or not is not useful since number of non-DV is much higher  as compared to DV's. It might be important to get some more numerical and useful features to make more sense out of the information."
   ]
  },
  {
   "cell_type": "markdown",
   "metadata": {},
   "source": [
    "## 4. Discuss and visualize your results, including limitations and opportunities for further analysis. Consider what you were able to accomplish in the given time, and what else you’d like to do."
   ]
  },
  {
   "cell_type": "markdown",
   "metadata": {},
   "source": [
    "### CONCLUSIONS\n",
    "\n",
    "In the given time, I performed Exploratory Data Analysis on the given data, tried predicting two variables form the dataset and achieved pretty good results on both the variables. I also tried building a K-Means clustering model which I believe needs much more distinguishing and numerical features to make more sense out of the data.\n"
   ]
  },
  {
   "cell_type": "markdown",
   "metadata": {},
   "source": [
    "### FUTURE WORK\n",
    "I would like to also explore the variable - Voucher Number further by making it simpler for analysis.\n",
    "Voucher Number can be broken into Categories according to the count of each voucher number or the amount associated with each voucher name.\n",
    "\n",
    "Similarly, some work can be done on the variable - Vendor Name. It appears that some vendors are organizations and some vendors are people. To get more insights the Vendor Name can be converted to Vendor Type - organization and individual.\n",
    "\n",
    "Transactions specifically for the years 2017-2019 can also be analyzed to gain some more insights into the dataset for the recent years."
   ]
  }
 ],
 "metadata": {
  "kernelspec": {
   "display_name": "Python 3",
   "language": "python",
   "name": "python3"
  },
  "language_info": {
   "codemirror_mode": {
    "name": "ipython",
    "version": 3
   },
   "file_extension": ".py",
   "mimetype": "text/x-python",
   "name": "python",
   "nbconvert_exporter": "python",
   "pygments_lexer": "ipython3",
   "version": "3.7.6"
  }
 },
 "nbformat": 4,
 "nbformat_minor": 2
}
