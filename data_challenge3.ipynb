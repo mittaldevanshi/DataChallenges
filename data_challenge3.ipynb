{
 "cells": [
  {
   "cell_type": "code",
   "execution_count": 2,
   "metadata": {},
   "outputs": [],
   "source": [
    "import itertools\n",
    "import math\n",
    "import numpy as np"
   ]
  },
  {
   "cell_type": "markdown",
   "metadata": {},
   "source": [
    "# Function that can give the expected value based on number of flips and prob of each coin"
   ]
  },
  {
   "cell_type": "code",
   "execution_count": 3,
   "metadata": {},
   "outputs": [],
   "source": [
    "# return val is just for the last question - to get the expected score for each value of heads - we will set it to 1 there\n",
    "\n",
    "def get_expected_value(flips, head_prob, tail_prob, return_val):\n",
    "    all_combinations = list(itertools.product(\"HT\", repeat=flips))\n",
    "    list_scores = []\n",
    "    power_of_2 = 0\n",
    "    dict_score_prob = {}\n",
    "    \n",
    "    for comb in all_combinations:\n",
    "        score = 0\n",
    "        p_x = 1\n",
    "        for val in comb:\n",
    "            if val == 'H':\n",
    "                score = score + 1\n",
    "                p_x = p_x * head_prob\n",
    "            elif val == 'T':\n",
    "                score += score * 2\n",
    "                p_x = p_x * tail_prob\n",
    "                \n",
    "        list_scores.append(score)\n",
    "        \n",
    "        \n",
    "        if score in dict_score_prob:\n",
    "            dict_score_prob[score] = dict_score_prob[score] + p_x\n",
    "        else:\n",
    "            dict_score_prob.update({score: p_x})\n",
    "    \n",
    "    expected_val = 0\n",
    "    for score, prob in dict_score_prob.items():\n",
    "            expected_val += score * prob\n",
    "    \n",
    "    # expected sd\n",
    "    expected_sd= 0\n",
    "    for score, prob in dict_score_prob.items():\n",
    "        expected_sd += ((score - expected_val)**2) * prob\n",
    "    # check power of 2\n",
    "    for score in list_scores:\n",
    "        try:\n",
    "            if (math.log(score, 2) - int(math.log(score, 2)))== 0.0:\n",
    "                power_of_2 +=1\n",
    "        except:\n",
    "            \"not a power of 2\"\n",
    "    \n",
    "    if return_val == 1:\n",
    "        return expected_val\n",
    "    elif return_val == 0 and head_prob == 0.5:\n",
    "        print(\"For a fair coin, the expected value for\", flips, \"flips is\", expected_val, \"and standard dev is\", np.sqrt(expected_sd), \\\n",
    "         \"and prob of score being a power of 2 is\", power_of_2/len(all_combinations))\n",
    "    elif return_val == 0 and head_prob != 0.5:\n",
    "        print(\"For an unfair coin with head prob as\", head_prob, \"and tail prob as\", tail_prob, \", the expected value for\", flips, \"flips is\", expected_val, \"and standard dev is\", np.sqrt(expected_sd), \\\n",
    "         \"and prob of score being a power of 2 is\", power_of_2/len(all_combinations))"
   ]
  },
  {
   "cell_type": "markdown",
   "metadata": {},
   "source": [
    "### Let's start with a fair coin. What is our expected score after 5 flips?\n",
    "### Suppose we played the game many times, with five flips each. What is the expected standard deviation of the scores?\n"
   ]
  },
  {
   "cell_type": "code",
   "execution_count": 4,
   "metadata": {},
   "outputs": [
    {
     "name": "stdout",
     "output_type": "stream",
     "text": [
      "For a fair coin, the expected value for 5 flips is 15.5 and standard dev is 16.590660023037056 and prob of score being a power of 2 is 0.15625\n"
     ]
    }
   ],
   "source": [
    "get_expected_value(5, 1/2, 1/2, 0)"
   ]
  },
  {
   "cell_type": "markdown",
   "metadata": {},
   "source": [
    "### After 10 flips, what is the probability our score is a power of two? What is the standard deviation?\n",
    "### Express this probability as a number between 0 and 1"
   ]
  },
  {
   "cell_type": "code",
   "execution_count": 5,
   "metadata": {},
   "outputs": [
    {
     "name": "stdout",
     "output_type": "stream",
     "text": [
      "For a fair coin, the expected value for 10 flips is 511.5 and standard dev is 1168.6749975934285 and prob of score being a power of 2 is 0.0234375\n"
     ]
    }
   ],
   "source": [
    "get_expected_value(10, 1/2, 1/2, 0)"
   ]
  },
  {
   "cell_type": "markdown",
   "metadata": {},
   "source": [
    "## What is our expected score after 15 flips? What is the standard deviation? "
   ]
  },
  {
   "cell_type": "code",
   "execution_count": 6,
   "metadata": {},
   "outputs": [
    {
     "name": "stdout",
     "output_type": "stream",
     "text": [
      "For a fair coin, the expected value for 15 flips is 16383.5 and standard dev is 69410.65110809724 and prob of score being a power of 2 is 0.0023193359375\n"
     ]
    }
   ],
   "source": [
    "get_expected_value(15, 1/2, 1/2, 0)"
   ]
  },
  {
   "cell_type": "markdown",
   "metadata": {},
   "source": [
    "### We will start a new game, now with an unfair coin. It has a 2/3 probability of heads, and a 1/3 probability of tails. What is our expected score after 10 flips?"
   ]
  },
  {
   "cell_type": "code",
   "execution_count": 7,
   "metadata": {},
   "outputs": [
    {
     "name": "stdout",
     "output_type": "stream",
     "text": [
      "For an unfair coin with head prob as 0.6666666666666666 and tail prob as 0.3333333333333333 , the expected value for 10 flips is 164.38171687920212 and standard dev is 394.82977089790324 and prob of score being a power of 2 is 0.0234375\n"
     ]
    }
   ],
   "source": [
    "get_expected_value(10, 2/3, 1/3, 0)"
   ]
  },
  {
   "cell_type": "markdown",
   "metadata": {},
   "source": [
    "### If we can choose how unfair our coin is, what probability of heads gives us the highest expected score for 10 flips? Express this probability as a number between 0 and 1\n"
   ]
  },
  {
   "cell_type": "code",
   "execution_count": 8,
   "metadata": {},
   "outputs": [],
   "source": [
    "dict_val_expected = {}\n",
    "for i in np.arange(0.0, 1.0, 0.0001):\n",
    "    dict_val_expected[i] = get_expected_value(10, i, 1-i, 1)"
   ]
  },
  {
   "cell_type": "code",
   "execution_count": 9,
   "metadata": {},
   "outputs": [
    {
     "name": "stdout",
     "output_type": "stream",
     "text": [
      "If we can choose how unfair our coin is, the probability of heads that gives us the highest expected score for 10 flips is 0.1595\n"
     ]
    }
   ],
   "source": [
    "print(\"If we can choose how unfair our coin is, the probability of heads that gives us the highest expected score \\\n",
    "for 10 flips is\", max(dict_val_expected, key=dict_val_expected.get) )"
   ]
  }
 ],
 "metadata": {
  "kernelspec": {
   "display_name": "Python 3",
   "language": "python",
   "name": "python3"
  },
  "language_info": {
   "codemirror_mode": {
    "name": "ipython",
    "version": 3
   },
   "file_extension": ".py",
   "mimetype": "text/x-python",
   "name": "python",
   "nbconvert_exporter": "python",
   "pygments_lexer": "ipython3",
   "version": "3.7.6"
  }
 },
 "nbformat": 4,
 "nbformat_minor": 4
}
