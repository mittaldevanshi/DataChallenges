{
 "cells": [
  {
   "cell_type": "code",
   "execution_count": 64,
   "metadata": {},
   "outputs": [],
   "source": [
    "import math\n",
    "text = ['I saw a cat',\n",
    "'I saw a dog',\n",
    "'I saw a horse',\n",
    "'I have a dog']"
   ]
  },
  {
   "cell_type": "code",
   "execution_count": 87,
   "metadata": {},
   "outputs": [],
   "source": [
    "# Freq of the word in the sentence / length of the sentence\n",
    "def get_tf(text):\n",
    "    tf_line = []\n",
    "    sentence_tf = []\n",
    "    for line in text:\n",
    "        textlist = line.split()\n",
    "        tf = {}\n",
    "        for word in textlist:\n",
    "            if word in tf:\n",
    "                tf[word] +=1/len(textlist)\n",
    "            else:\n",
    "                tf[word] = 1/len(textlist)\n",
    "        sentence_tf.append(tf)\n",
    "    return sentence_tf\n",
    "        "
   ]
  },
  {
   "cell_type": "code",
   "execution_count": 67,
   "metadata": {},
   "outputs": [
    {
     "data": {
      "text/plain": [
       "[{'I': 0.25, 'saw': 0.25, 'a': 0.25, 'cat': 0.25},\n",
       " {'I': 0.25, 'saw': 0.25, 'a': 0.25, 'dog': 0.25},\n",
       " {'I': 0.25, 'saw': 0.25, 'a': 0.25, 'horse': 0.25},\n",
       " {'I': 0.25, 'have': 0.25, 'a': 0.25, 'dog': 0.25}]"
      ]
     },
     "execution_count": 67,
     "metadata": {},
     "output_type": "execute_result"
    }
   ],
   "source": [
    "get_tf(text)"
   ]
  },
  {
   "cell_type": "code",
   "execution_count": 88,
   "metadata": {},
   "outputs": [],
   "source": [
    "# Number of sentences/ number of times the word occurs in sentence\n",
    "def get_idf(text):\n",
    "    idf_line = []\n",
    "    idf = {}\n",
    "    for line in text:\n",
    "        textlist = line.split()\n",
    "        for word in textlist:\n",
    "            if word in idf:\n",
    "                idf[word] +=1\n",
    "            else:\n",
    "                idf[word] = 1\n",
    "    return {i: math.log10(len(text)/v) for i, v in idf.items()}\n",
    "        "
   ]
  },
  {
   "cell_type": "code",
   "execution_count": 84,
   "metadata": {},
   "outputs": [
    {
     "data": {
      "text/plain": [
       "{'I': 0.0,\n",
       " 'saw': 0.12493873660829993,\n",
       " 'a': 0.0,\n",
       " 'cat': 0.6020599913279624,\n",
       " 'dog': 0.3010299956639812,\n",
       " 'horse': 0.6020599913279624,\n",
       " 'have': 0.6020599913279624}"
      ]
     },
     "execution_count": 84,
     "metadata": {},
     "output_type": "execute_result"
    }
   ],
   "source": [
    "get_idf(text)"
   ]
  },
  {
   "cell_type": "code",
   "execution_count": 89,
   "metadata": {},
   "outputs": [],
   "source": [
    "# get sentence wise tf*idf \n",
    "def get_tfidf(text):\n",
    "    final = []\n",
    "    for sentence in get_tf(text):\n",
    "        sent = {}\n",
    "        for i, v in sentence.items():\n",
    "            tf_idf = v * get_idf(text)[i]\n",
    "            sent[i] = tf_idf\n",
    "        final.append(sent)\n",
    "    return final\n",
    "    "
   ]
  },
  {
   "cell_type": "code",
   "execution_count": 86,
   "metadata": {},
   "outputs": [
    {
     "data": {
      "text/plain": [
       "[{'I': 0.0, 'saw': 0.031234684152074983, 'a': 0.0, 'cat': 0.1505149978319906},\n",
       " {'I': 0.0, 'saw': 0.031234684152074983, 'a': 0.0, 'dog': 0.0752574989159953},\n",
       " {'I': 0.0,\n",
       "  'saw': 0.031234684152074983,\n",
       "  'a': 0.0,\n",
       "  'horse': 0.1505149978319906},\n",
       " {'I': 0.0, 'have': 0.1505149978319906, 'a': 0.0, 'dog': 0.0752574989159953}]"
      ]
     },
     "execution_count": 86,
     "metadata": {},
     "output_type": "execute_result"
    }
   ],
   "source": [
    "get_tfidf(text)"
   ]
  }
 ],
 "metadata": {
  "kernelspec": {
   "display_name": "Python 3",
   "language": "python",
   "name": "python3"
  },
  "language_info": {
   "codemirror_mode": {
    "name": "ipython",
    "version": 3
   },
   "file_extension": ".py",
   "mimetype": "text/x-python",
   "name": "python",
   "nbconvert_exporter": "python",
   "pygments_lexer": "ipython3",
   "version": "3.7.6"
  }
 },
 "nbformat": 4,
 "nbformat_minor": 4
}
